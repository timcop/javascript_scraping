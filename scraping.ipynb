{
 "cells": [
  {
   "cell_type": "code",
   "execution_count": 144,
   "id": "924d6511",
   "metadata": {},
   "outputs": [],
   "source": [
    "from bs4 import BeautifulSoup\n",
    "import requests"
   ]
  },
  {
   "cell_type": "code",
   "execution_count": 145,
   "id": "5e5427ac",
   "metadata": {},
   "outputs": [],
   "source": [
    "\n",
    "ads_all = []\n",
    "base_url = \"https://www.bidbud.co.nz/search?category=0002-0356-0032-2273-&page=\"\n",
    "\n",
    "page_num = 1\n",
    "\n",
    "response = requests.get(\"https://www.bidbud.co.nz/search?category=0002-0356-0032-2273-&page=\" + str(page_num))\n",
    "html = response.content\n",
    "soup = BeautifulSoup(html, \"html.parser\")\n",
    "page_ads = soup.find_all('a', class_=\"listing_title\")\n",
    "\n",
    "ads_all.extend(page_ads)\n",
    "\n",
    "while len(page_ads) > 0:\n",
    "    page_num += 1\n",
    "    response = requests.get(\"https://www.bidbud.co.nz/search?category=0002-0356-0032-2273-&page=\" + str(page_num))\n",
    "    html = response.content\n",
    "    soup = BeautifulSoup(html, \"html.parser\")\n",
    "    page_ads = soup.find_all('a', class_=\"listing_title\")\n",
    "\n",
    "    ads_all.extend(page_ads)\n",
    "\n",
    "ads_hrefs = [a.get('href') for a in ads_all]"
   ]
  },
  {
   "cell_type": "code",
   "execution_count": 146,
   "id": "e717bd5c",
   "metadata": {},
   "outputs": [],
   "source": [
    "# Post clean schema perhaps?\n",
    "\n",
    "dict_keys = ['ListingId', \\\n",
    "             'Title', \\\n",
    "             'Category', \\\n",
    "             'StartPrice', \\\n",
    "             'BuyNowPrice', \\\n",
    "             'StartDate', \\\n",
    "             'EndDate', \\\n",
    "             'IsFeatured', \\\n",
    "             'BiddersAndWatchers', \\\n",
    "             'MaxMidAmount', \\\n",
    "             'IsNew', \\\n",
    "             'Region', \\\n",
    "             'Suburb', \\\n",
    "             'BidCount', \\\n",
    "             'ViewCount', \\\n",
    "             'IsReserveMet', \\\n",
    "             'HasReserve', \\\n",
    "             'HasBuyNow', \\\n",
    "             'ReserveState', \\\n",
    "             'RelistedItemId', \\\n",
    "             'Subtitle', \\\n",
    "             'IsBuyNowOnly', \\\n",
    "             'TotalReviewCount', \\\n",
    "             'UnansweredQuestionCount', \\\n",
    "            ]\n",
    "\n",
    "listing_dicts = [dict.fromkeys(dict_keys) for i in range(len(ads_all) + 1)]\n"
   ]
  },
  {
   "cell_type": "code",
   "execution_count": 168,
   "id": "25b1f13b",
   "metadata": {},
   "outputs": [],
   "source": [
    "listing_base_url = \"https://www.bidbud.co.nz/\"\n",
    "\n",
    "response = requests.get(\"https://www.bidbud.co.nz/\" + ads_hrefs[2])\n",
    "html = response.content\n",
    "soup = BeautifulSoup(html, \"html.parser\")"
   ]
  },
  {
   "cell_type": "code",
   "execution_count": 167,
   "id": "eba26c34",
   "metadata": {},
   "outputs": [
    {
     "data": {
      "text/plain": [
       "'/4756489268'"
      ]
     },
     "execution_count": 167,
     "metadata": {},
     "output_type": "execute_result"
    }
   ],
   "source": [
    "ads_hrefs[2]"
   ]
  },
  {
   "cell_type": "code",
   "execution_count": 161,
   "id": "5811c8cf",
   "metadata": {},
   "outputs": [],
   "source": [
    "title = soup.find('h2')\n",
    "\n",
    "item_info = soup.find('div', id=\"item_info\") # Listing start/end, prices, watches\n",
    "\n",
    "description = soup.find('div', id='description') # Description element \n",
    "\n",
    "listing_attributes = description.find('table', id='listingattributes') # table with memory, HDD, screen, cores. Child of description\n",
    "attr_rows = listing_attributes.findAll('tr')\n",
    "attr_headers = []\n",
    "attr_values = []\n",
    "for row in attr_rows:\n",
    "    header = row.find('th').text.strip()\n",
    "    value = row.find('td').text.strip().strip(':')\n",
    "    attr_headers.append(header)\n",
    "    attr_values.append(value)\n",
    "\n",
    "description_paragraphs = description.findAll('p')\n",
    "description_paragraphs = [p.text for p in description_paragraphs]"
   ]
  },
  {
   "cell_type": "code",
   "execution_count": 162,
   "id": "dc390100",
   "metadata": {},
   "outputs": [],
   "source": [
    "seller_information = description.find('div', class_='panel-body')"
   ]
  },
  {
   "cell_type": "code",
   "execution_count": 163,
   "id": "6a4dd771",
   "metadata": {},
   "outputs": [],
   "source": [
    "member_latest_listings_href = seller_information.find('a', title=\"View member's listings\").get('href')\n",
    "member_username = seller_information.find('a', title=\"View member's listings\").text\n",
    "\n",
    "member_feedback_href = seller_information.find('a', title=\"View member's feedback\").get('href')\n",
    "member_feedback_score = seller_information.find('a', title=\"View member's feedback\").text\n",
    "\n",
    "seller_information_string = seller_information.text.strip() # Will need to clean this \n"
   ]
  },
  {
   "cell_type": "code",
   "execution_count": 164,
   "id": "8620a870",
   "metadata": {},
   "outputs": [],
   "source": [
    "view_count = soup.find('span', id=\"view_count\").text"
   ]
  },
  {
   "cell_type": "code",
   "execution_count": 165,
   "id": "e99e18d5",
   "metadata": {},
   "outputs": [],
   "source": [
    "listing_dict = dict()\n",
    "\n",
    "listing_dict['ListingId'] = ads_hrefs[0].strip('/')\n",
    "listing_dict['Title'] = title\n",
    "\n",
    "attrs_dict = dict(zip(attr_headers, attr_values))\n",
    "listing_dict.update(attrs_dict)\n",
    "\n",
    "listing_dict['Description'] = description_paragraphs\n",
    "\n",
    "listing_dict['MemberFeedbackUrl'] = member_feedback_href\n",
    "listing_dict['MemberFeedbackScore'] = member_feedback_score\n",
    "listing_dict['SellerInformationString'] = seller_information_string\n",
    "\n",
    "listing_dict['ViewCount'] = view_count\n",
    "\n",
    "listing_dict['ItemInfo'] = item_info.text.strip()\n",
    "\n"
   ]
  },
  {
   "cell_type": "code",
   "execution_count": 166,
   "id": "3be18f38",
   "metadata": {},
   "outputs": [
    {
     "data": {
      "text/plain": [
       "{'ListingId': '4760235612',\n",
       " 'Title': <h2>Macbook Air 13 inch 2017</h2>,\n",
       " 'Memory:': '8 to 15 GB',\n",
       " 'Hard Drive Size:': 'Under 160 GB',\n",
       " 'Screen Size:': '13\"',\n",
       " 'Cores:': '5',\n",
       " 'Description': ['MacBook Air 13 Inch, 2017 1, 8 GHz  corei5, 8 GB .\\nWorks well when plugged to power  but the battery is not great and will only hold charge for a couple of hours.',\n",
       "  'NO POSTING ! BUYER MUST PICK UP.'],\n",
       " 'MemberFeedbackUrl': 'https://www.bidbud.co.nz/members/feedback/568396',\n",
       " 'MemberFeedbackScore': '196',\n",
       " 'SellerInformationString': 'loopy9999\\xa0(196\\xa0\\xa0)Member for 20 years99.0% positive feedbackLocated in Cambridge, WaikatoPayment methods : Cash, NZ Bank Deposit',\n",
       " 'ViewCount': '75 (viewed on average every 30 minutes )',\n",
       " 'ItemInfo': 'Listed on 13 Jun 2024. Closes Tue 18 Jun, 4:46pm — 3 daysStart price $100.00 reserve not met 4 people added this to their watchlist'}"
      ]
     },
     "execution_count": 166,
     "metadata": {},
     "output_type": "execute_result"
    }
   ],
   "source": [
    "listing_dict"
   ]
  },
  {
   "cell_type": "code",
   "execution_count": null,
   "id": "68f7c585",
   "metadata": {},
   "outputs": [],
   "source": []
  }
 ],
 "metadata": {
  "kernelspec": {
   "display_name": ".venv",
   "language": "python",
   "name": "python3"
  },
  "language_info": {
   "codemirror_mode": {
    "name": "ipython",
    "version": 3
   },
   "file_extension": ".py",
   "mimetype": "text/x-python",
   "name": "python",
   "nbconvert_exporter": "python",
   "pygments_lexer": "ipython3",
   "version": "3.12.3"
  }
 },
 "nbformat": 4,
 "nbformat_minor": 5
}
